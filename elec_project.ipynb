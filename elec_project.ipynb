{
  "cells": [
    {
      "cell_type": "code",
      "source": [
        "from google.colab import drive"
      ],
      "metadata": {
        "id": "ys9UqDY18bbK"
      },
      "execution_count": null,
      "outputs": []
    },
    {
      "cell_type": "code",
      "source": [
        "drive.mount(\"/content/drive\")"
      ],
      "metadata": {
        "id": "f_r1Ohb38cO8"
      },
      "execution_count": null,
      "outputs": []
    },
    {
      "cell_type": "code",
      "source": [
        "import pandas as pd\n",
        "pd.set_option('display.max_rows', 200)\n",
        "pd.set_option('display.max_columns', 200)\n",
        "import seaborn as sns\n",
        "import matplotlib.pyplot as plt\n",
        "from matplotlib.pyplot import figure\n",
        "%matplotlib inline\n",
        "import plotly as px\n",
        "import numpy as np\n",
        "import missingno as msno # analyse des manquants \n",
        "import plotly.graph_objects as go #donut chart\n",
        "import scipy.stats as scipy\n",
        "from scipy.stats import pearsonr\n",
        "from math import exp\n"
      ],
      "metadata": {
        "id": "xEcMwMxv8cSp"
      },
      "execution_count": null,
      "outputs": []
    },
    {
      "cell_type": "code",
      "source": [
        "#upload dataset exploratoire\n",
        "df=pd.read_csv(\"/content/drive/MyDrive/Projet4_ConsoElec/dataset.csv\")\n"
      ],
      "metadata": {
        "id": "AGGIV4-Meo1N"
      },
      "execution_count": null,
      "outputs": []
    },
    {
      "cell_type": "code",
      "source": [
        "dataset=df"
      ],
      "metadata": {
        "id": "Ga1KtmJx9b3l"
      },
      "execution_count": null,
      "outputs": []
    },
    {
      "cell_type": "code",
      "source": [
        "dataset.head()"
      ],
      "metadata": {
        "id": "8dMr3s3qSRUQ"
      },
      "execution_count": null,
      "outputs": []
    },
    {
      "cell_type": "code",
      "source": [
        "dataset.columns"
      ],
      "metadata": {
        "id": "LjbZ1NmhSbBJ"
      },
      "execution_count": null,
      "outputs": []
    },
    {
      "cell_type": "code",
      "source": [
        "dataset=dataset[['OSEBuildingID', 'LargestPropertyUseType', 'LargestPropertyUseTypeGFA',\n",
        "        'ENERGYSTARScore', 'SiteEnergyUse(kBtu)',\n",
        "       'SteamUse(kBtu)', 'Electricity(kBtu)', 'NaturalGas(kBtu)',\n",
        "       'OtherFuelUse(kBtu)', 'GHGEmissions(MetricTonsCO2e)',\n",
        "       'log_SiteEnergyUse(kBtu)', 'log_GHGEmissions(MetricTonsCO2e)',\n",
        "       'log_LargestPropertyUseTypeGFA', 'Year_slice', 'NbFloors_slice',\n",
        "       'Bin_SteamUse(kBtu)',  'Bin_NaturalGas(kBtu)',\n",
        "       'Bin_OtherFuelUse(kBtu)']]"
      ],
      "metadata": {
        "id": "aNUQLPq0SY9Z"
      },
      "execution_count": null,
      "outputs": []
    },
    {
      "cell_type": "code",
      "source": [
        "datacor=dataset[['LargestPropertyUseType', 'LargestPropertyUseTypeGFA',\n",
        "        'ENERGYSTARScore', \n",
        "       'SteamUse(kBtu)', 'Electricity(kBtu)', 'NaturalGas(kBtu)',\n",
        "       'OtherFuelUse(kBtu)', 'log_SiteEnergyUse(kBtu)', 'log_GHGEmissions(MetricTonsCO2e)',\n",
        "       'log_LargestPropertyUseTypeGFA', 'Year_slice', 'NbFloors_slice']]"
      ],
      "metadata": {
        "id": "PmMKuspZVBn2"
      },
      "execution_count": null,
      "outputs": []
    },
    {
      "cell_type": "markdown",
      "source": [
        "## Corrélations des variables"
      ],
      "metadata": {
        "id": "F0GVNoCihO1w"
      }
    },
    {
      "cell_type": "code",
      "execution_count": null,
      "metadata": {
        "id": "dErc4NKE2BLa",
        "colab": {
          "base_uri": "https://localhost:8080/",
          "height": 209
        },
        "outputId": "87631f4e-c639-4f99-9345-43d6cd85fbca"
      },
      "outputs": [
        {
          "output_type": "error",
          "ename": "NameError",
          "evalue": "ignored",
          "traceback": [
            "\u001b[0;31m---------------------------------------------------------------------------\u001b[0m",
            "\u001b[0;31mNameError\u001b[0m                                 Traceback (most recent call last)",
            "\u001b[0;32m<ipython-input-1-dc392f0b33a5>\u001b[0m in \u001b[0;36m<module>\u001b[0;34m()\u001b[0m\n\u001b[1;32m      1\u001b[0m \u001b[0;31m# Matrice des corrélations\u001b[0m\u001b[0;34m\u001b[0m\u001b[0;34m\u001b[0m\u001b[0;34m\u001b[0m\u001b[0m\n\u001b[0;32m----> 2\u001b[0;31m \u001b[0mfig\u001b[0m\u001b[0;34m,\u001b[0m \u001b[0max\u001b[0m \u001b[0;34m=\u001b[0m \u001b[0mplt\u001b[0m\u001b[0;34m.\u001b[0m\u001b[0msubplots\u001b[0m\u001b[0;34m(\u001b[0m\u001b[0mfigsize\u001b[0m\u001b[0;34m=\u001b[0m\u001b[0;34m(\u001b[0m\u001b[0;36m15\u001b[0m\u001b[0;34m,\u001b[0m\u001b[0;36m15\u001b[0m\u001b[0;34m)\u001b[0m\u001b[0;34m)\u001b[0m\u001b[0;34m\u001b[0m\u001b[0;34m\u001b[0m\u001b[0m\n\u001b[0m\u001b[1;32m      3\u001b[0m \u001b[0msns\u001b[0m\u001b[0;34m.\u001b[0m\u001b[0mheatmap\u001b[0m\u001b[0;34m(\u001b[0m\u001b[0mdatacor\u001b[0m\u001b[0;34m.\u001b[0m\u001b[0mcorr\u001b[0m\u001b[0;34m(\u001b[0m\u001b[0;34m)\u001b[0m\u001b[0;34m,\u001b[0m\u001b[0mannot\u001b[0m \u001b[0;34m=\u001b[0m \u001b[0;32mTrue\u001b[0m\u001b[0;34m,\u001b[0m \u001b[0msquare\u001b[0m\u001b[0;34m=\u001b[0m\u001b[0;32mTrue\u001b[0m\u001b[0;34m)\u001b[0m\u001b[0;34m\u001b[0m\u001b[0;34m\u001b[0m\u001b[0m\n",
            "\u001b[0;31mNameError\u001b[0m: name 'plt' is not defined"
          ]
        }
      ],
      "source": [
        "# Matrice des corrélations\n",
        "fig, ax = plt.subplots(figsize=(15,15))  \n",
        "sns.heatmap(datacor.corr(),annot = True, square=True)"
      ]
    },
    {
      "cell_type": "code",
      "source": [
        "dataset.dropna(0, inplace=True) # comme j'uilise ce dataset pour la régression je préfère droper les données manquantes plutôt que les approximer "
      ],
      "metadata": {
        "id": "lcuCGoqSTACS"
      },
      "execution_count": null,
      "outputs": []
    },
    {
      "cell_type": "code",
      "source": [
        "#Corrélation émissionsCO2/Energie\n",
        "sns.set_theme(color_codes=True)\n",
        "\n",
        "ax=sns.regplot(x='SteamUse(kBtu)', y='GHGEmissions(MetricTonsCO2e)', data=dataset)\n"
      ],
      "metadata": {
        "id": "aQw3fcQ0gSbb"
      },
      "execution_count": null,
      "outputs": []
    },
    {
      "cell_type": "code",
      "execution_count": null,
      "metadata": {
        "id": "aVVv9UFiXkW4"
      },
      "outputs": [],
      "source": [
        "#Corrélation émissionsCO2/Energie\n",
        "sns.set_theme(color_codes=True)\n",
        "\n",
        "ax=sns.regplot(x=\"log_GHGEmissions(MetricTonsCO2e)\", y='log_SiteEnergyUse(kBtu)', data=dataset)\n",
        "#on va prédire les emissions à partir de l'énergie (r=0.89)"
      ]
    },
    {
      "cell_type": "code",
      "execution_count": null,
      "metadata": {
        "id": "k50ZXWKeCDKL"
      },
      "outputs": [],
      "source": [
        "X=dataset[\"log_GHGEmissions(MetricTonsCO2e)\"]\n",
        "Y=dataset['log_SiteEnergyUse(kBtu)']\n",
        "corr, _ = pearsonr(X, Y)\n",
        "print(corr)"
      ]
    },
    {
      "cell_type": "code",
      "source": [
        "X=dataset['log_LargestPropertyUseTypeGFA']\n",
        "Y=dataset['log_SiteEnergyUse(kBtu)']\n",
        "corr, _ = pearsonr(X, Y)\n",
        "print(corr)"
      ],
      "metadata": {
        "id": "zhfPS2bOMPcJ"
      },
      "execution_count": null,
      "outputs": []
    },
    {
      "cell_type": "code",
      "source": [
        "X=dataset['SiteEnergyUse(kBtu)']\n",
        "Y=dataset[\"GHGEmissions(MetricTonsCO2e)\"]\n",
        "corr, _ = pearsonr(X, Y)\n",
        "print(corr)"
      ],
      "metadata": {
        "id": "1INl-gc-XBmh"
      },
      "execution_count": null,
      "outputs": []
    },
    {
      "cell_type": "code",
      "source": [
        "#Corrélation \n",
        "\n",
        "ax=sns.regplot(y='log_LargestPropertyUseTypeGFA', x=\"log_GHGEmissions(MetricTonsCO2e)\", data=dataset)\n"
      ],
      "metadata": {
        "id": "qOA8uH_BidqG"
      },
      "execution_count": null,
      "outputs": []
    },
    {
      "cell_type": "code",
      "source": [
        "X=dataset['log_LargestPropertyUseTypeGFA']\n",
        "Y=dataset[\"log_GHGEmissions(MetricTonsCO2e)\"]\n",
        "corr, _ = pearsonr(X, Y)\n",
        "print(corr)"
      ],
      "metadata": {
        "id": "tjeb3hoti1Dz"
      },
      "execution_count": null,
      "outputs": []
    },
    {
      "cell_type": "markdown",
      "metadata": {
        "id": "ov-TaCronoiS"
      },
      "source": [
        "Interprétations : Les analyses statistiques et les corrélations me permettent d'établir une liste de variables importantes dans la modélisation des consommations d'énergie et prédictions des émissions de CO2. \n",
        "\n",
        "\n",
        "Les variables non numériques sont encodées pour la modélisation\n",
        "Les énergies sont binarisées. Cela abolit l'importance de l'électricité dans le model énergie car plus de 99,7% des bâtiments utilisent l'électricité.\n",
        " \n",
        "Modèle émissions de CO2:Les émissions de CO2 dépendent de l'énergie consommée. Ce sont les mêmes variables que pour le modèle de prédiction de l'énergie qui sont corrélées aux émissions de CO2. Ce sont juste les intensités de corrélation qui varient. \n",
        "\n",
        "Remarque: L'EnergyStarScore n'est corrélée à aucune variable comme le montrait la matrice des corrélations. On evaluera son importance dans le modèle de prédiction des émissions de CO2. \n",
        "L'intensité de la relation entre dépenses énergies ou les émissions de C02 avec la variable neighboord est faible (np2=0,012, np2=0,015). je ne conserve pas cette variable pour la modélisation car son encodage est complexe. \n"
      ]
    },
    {
      "cell_type": "markdown",
      "metadata": {
        "id": "nEUnoLhZkajD"
      },
      "source": [
        "# PARTIE 3 : Modélisation "
      ]
    },
    {
      "cell_type": "code",
      "execution_count": null,
      "metadata": {
        "id": "W-aP-t5MVo8f"
      },
      "outputs": [],
      "source": [
        "from sklearn import linear_model\n",
        "import numpy as np\n",
        "# scaling and dataset split\n",
        "from sklearn import preprocessing\n",
        "from sklearn.model_selection import train_test_split\n",
        "\n",
        "# OLS (moindres carrés), Ridge\n",
        "from sklearn import metrics\n",
        "from sklearn.linear_model import LinearRegression, Ridge\n",
        "from sklearn.model_selection import RandomizedSearchCV \n",
        "\n",
        "#non linear\n",
        "from sklearn.ensemble import RandomForestRegressor\n",
        "\n",
        "# model evaluation\n",
        "from sklearn.metrics import r2_score, mean_squared_error\n",
        "from sklearn.model_selection import cross_val_score\n",
        "\n"
      ]
    },
    {
      "cell_type": "code",
      "source": [
        "pip install shap # interprétation des variables dans le modèle "
      ],
      "metadata": {
        "id": "5fjF2yR2rfgg"
      },
      "execution_count": null,
      "outputs": []
    },
    {
      "cell_type": "code",
      "source": [
        "import shap"
      ],
      "metadata": {
        "id": "A34an6b9hhb6"
      },
      "execution_count": null,
      "outputs": []
    },
    {
      "cell_type": "markdown",
      "metadata": {
        "id": "kjs1qixdTRkh"
      },
      "source": [
        "## Modélisation du CO2"
      ]
    },
    {
      "cell_type": "markdown",
      "metadata": {
        "id": "XVoSQBTETeco"
      },
      "source": [
        "J'ajoute l'EnergyStarScore dans mon modèle afin d'analyser sa contribution\n",
        "\n",
        "Rappel: les variables corrélées aux émissions de CO2 sont l'énergie consommée (à prédire), l'utilisation du gaz naturel (variable binarisée),  le type de propriété et le nombre d'étages. "
      ]
    },
    {
      "cell_type": "markdown",
      "metadata": {
        "id": "ctH1nZp5Ts63"
      },
      "source": [
        "### Target encoding de largestPropertyUse: target= log(Emissions de CO2)"
      ]
    },
    {
      "cell_type": "code",
      "execution_count": null,
      "metadata": {
        "id": "E3h0ltrlEoik"
      },
      "outputs": [],
      "source": [
        "dataset.info()"
      ]
    },
    {
      "cell_type": "code",
      "source": [
        "from sklearn.preprocessing import LabelEncoder"
      ],
      "metadata": {
        "id": "hYM1Lg_3Ue4n"
      },
      "execution_count": null,
      "outputs": []
    },
    {
      "cell_type": "code",
      "source": [
        "le=LabelEncoder()"
      ],
      "metadata": {
        "id": "I8v5M_xUUhIe"
      },
      "execution_count": null,
      "outputs": []
    },
    {
      "cell_type": "code",
      "execution_count": null,
      "metadata": {
        "id": "3vg_p0OaE7A_"
      },
      "outputs": [],
      "source": [
        "mean_data_=dataset[['LargestPropertyUseType', 'ENERGYSTARScore','log_LargestPropertyUseTypeGFA', 'NbFloors_slice', 'Year_slice',\n",
        "        'Bin_NaturalGas(kBtu)', 'Bin_SteamUse(kBtu)', 'log_GHGEmissions(MetricTonsCO2e)']]"
      ]
    },
    {
      "cell_type": "code",
      "execution_count": null,
      "metadata": {
        "id": "C6sbfFvxF1XY"
      },
      "outputs": [],
      "source": [
        "mean_data_.info()"
      ]
    },
    {
      "cell_type": "code",
      "execution_count": null,
      "metadata": {
        "id": "ar3njh-WE0LD"
      },
      "outputs": [],
      "source": [
        "mean_data_['enc_NbFloors']=le.fit_transform(mean_data_['NbFloors_slice'])\n",
        "mean_data_['enc_Year_slice']=le.fit_transform(mean_data_['Year_slice'])"
      ]
    },
    {
      "cell_type": "code",
      "execution_count": null,
      "metadata": {
        "id": "btNAC3L-GPOc"
      },
      "outputs": [],
      "source": [
        "mean_data_=mean_data_[['LargestPropertyUseType', 'ENERGYSTARScore',\n",
        "       'log_LargestPropertyUseTypeGFA', 'enc_NbFloors', 'enc_Year_slice',\n",
        "        'Bin_NaturalGas(kBtu)', 'Bin_SteamUse(kBtu)', 'log_GHGEmissions(MetricTonsCO2e)']]"
      ]
    },
    {
      "cell_type": "markdown",
      "metadata": {
        "id": "VyUCj5pfGh7i"
      },
      "source": [
        "Target mean encoding :\n",
        "\n",
        "encodage par la moyenne de la cible : log_GHGEmissions"
      ]
    },
    {
      "cell_type": "code",
      "execution_count": null,
      "metadata": {
        "id": "ASdoTyvZHKno"
      },
      "outputs": [],
      "source": [
        "X_train, X_test, y_train, y_test = train_test_split(mean_data_[['LargestPropertyUseType', 'ENERGYSTARScore', 'enc_NbFloors', 'enc_Year_slice',\n",
        "        'Bin_NaturalGas(kBtu)', 'Bin_SteamUse(kBtu)', 'log_LargestPropertyUseTypeGFA', 'log_GHGEmissions(MetricTonsCO2e)']],\n",
        "        mean_data_['log_GHGEmissions(MetricTonsCO2e)'], test_size=0.3, random_state=100)"
      ]
    },
    {
      "cell_type": "code",
      "execution_count": null,
      "metadata": {
        "id": "nlMagFdEIuOz"
      },
      "outputs": [],
      "source": [
        "#Now, we will calculate the target frequency of each LargestPropertyUseType' according to the 'log_GHGEmissions(MetricTonsCO2e)' value using groupby()\n",
        "target_freq=X_train.groupby(['LargestPropertyUseType'])['log_GHGEmissions(MetricTonsCO2e)'].mean()\n",
        "target_freq"
      ]
    },
    {
      "cell_type": "code",
      "execution_count": null,
      "metadata": {
        "id": "gsQcremSJsd1"
      },
      "outputs": [],
      "source": [
        "#Converting to dictionnary\n",
        "ordered_target_freq=target_freq.to_dict()\n",
        "ordered_target_freq\n",
        "\n",
        "# Les fréquences ont été calculées sur le train seulement et sont mappées sur le test \n",
        "X_train['Enc_LargestPropertyType']=X_train.LargestPropertyUseType.map(ordered_target_freq)\n",
        "X_test['Enc_LargestPropertyType']=X_test.LargestPropertyUseType.map(ordered_target_freq)\n"
      ]
    },
    {
      "cell_type": "code",
      "execution_count": null,
      "metadata": {
        "id": "4Vw5cradKrSZ"
      },
      "outputs": [],
      "source": [
        "X_train.info()"
      ]
    },
    {
      "cell_type": "code",
      "execution_count": null,
      "metadata": {
        "id": "n90tzpUHKBa6"
      },
      "outputs": [],
      "source": [
        "#Relation monotonique entre la variable et son encodage\n",
        "fig=plt.figure()\n",
        "fig=X_train.groupby(['Enc_LargestPropertyType'])['log_GHGEmissions(MetricTonsCO2e)'].mean().plot()\n",
        "fig.set_title('Relation monotonique entre la variable encodée et la cible')\n",
        "fig.set_ylabel('GHGEmissions(M.TonsCO2e)')"
      ]
    },
    {
      "cell_type": "code",
      "source": [
        "X_test"
      ],
      "metadata": {
        "id": "qqJEJ19ljjyI"
      },
      "execution_count": null,
      "outputs": []
    },
    {
      "cell_type": "code",
      "execution_count": null,
      "metadata": {
        "id": "oa8-2bNQKKyk"
      },
      "outputs": [],
      "source": [
        "# je drope les colonnes pour la régression :  Largestproperty qui est maintenant encodée \n",
        "X_test.drop(['LargestPropertyUseType'],axis=1, inplace=True)\n",
        "X_train.drop(['LargestPropertyUseType'],axis=1, inplace=True)"
      ]
    },
    {
      "cell_type": "code",
      "execution_count": null,
      "metadata": {
        "id": "naSKce8EW1K6"
      },
      "outputs": [],
      "source": [
        "datareg_=X_train[['ENERGYSTARScore',  'log_LargestPropertyUseTypeGFA', 'Enc_LargestPropertyType', 'enc_NbFloors', 'enc_Year_slice',\n",
        "        'Bin_NaturalGas(kBtu)', 'Bin_SteamUse(kBtu)', 'log_GHGEmissions(MetricTonsCO2e)']]"
      ]
    },
    {
      "cell_type": "code",
      "execution_count": null,
      "metadata": {
        "id": "uCx7mDoCMvVK"
      },
      "outputs": [],
      "source": [
        "X=datareg_[datareg_.columns[:-1]]\n",
        "y=datareg_['log_GHGEmissions(MetricTonsCO2e)']"
      ]
    },
    {
      "cell_type": "code",
      "execution_count": null,
      "metadata": {
        "id": "lj2YfeIGYOvu"
      },
      "outputs": [],
      "source": [
        "X_train, X_test, y_train, y_test = train_test_split(X,y, test_size=0.3, random_state=100)"
      ]
    },
    {
      "cell_type": "code",
      "source": [
        "X_train"
      ],
      "metadata": {
        "id": "GQ4iYLt6NXqS"
      },
      "execution_count": null,
      "outputs": []
    },
    {
      "cell_type": "markdown",
      "metadata": {
        "id": "CzJfgK5wdwv2"
      },
      "source": [
        "je ne standradise pas enregy star score car variable discrète (skew faible). Les autres sont transformées déjà par le log. "
      ]
    },
    {
      "cell_type": "markdown",
      "metadata": {
        "id": "1M0TBxfcWPuL"
      },
      "source": [
        "## Modèles linéaires pour prédire les émissions de CO2"
      ]
    },
    {
      "cell_type": "markdown",
      "metadata": {
        "id": "ZyQ3dBMr3tcd"
      },
      "source": [
        "### Régression linéaire (baseline)"
      ]
    },
    {
      "cell_type": "code",
      "execution_count": null,
      "metadata": {
        "id": "mcy3aWUiWXBd"
      },
      "outputs": [],
      "source": [
        "# On crée un modèle de régression linéaire\n",
        "lr = linear_model.LinearRegression()"
      ]
    },
    {
      "cell_type": "code",
      "execution_count": null,
      "metadata": {
        "id": "_-3oNBxSWq-9"
      },
      "outputs": [],
      "source": [
        "%timeit lr.fit(X_train, y_train)"
      ]
    },
    {
      "cell_type": "code",
      "source": [
        "# évaluation du modèle en CV sur le jeu d'entrainement :\n",
        "MSE_lr_baseline= cross_val_score (lr, X_train, y_train, cv=5, scoring='neg_mean_squared_error') \n",
        "r2_lr_baseline= cross_val_score (lr, X_train, y_train, cv=5, scoring='r2')"
      ],
      "metadata": {
        "id": "qZjeEZKURkwE"
      },
      "execution_count": null,
      "outputs": []
    },
    {
      "cell_type": "code",
      "source": [
        "#Evaluation du modèle de régression linéaire (baseline)\n",
        "\n",
        "# sur le jeu train en cross validation :\n",
        "print ('MSE_lr(CV):', np.mean(MSE_lr_baseline*(-1)))\n",
        "print ('r2_lr (CV):', np.mean(r2_lr_baseline))"
      ],
      "metadata": {
        "id": "OZ2A3xQQfllS"
      },
      "execution_count": null,
      "outputs": []
    },
    {
      "cell_type": "code",
      "execution_count": null,
      "metadata": {
        "id": "WBH4IgGEWklB"
      },
      "outputs": [],
      "source": [
        "#j'applique le modèle \n",
        "y_pred_lr=lr.predict(X_test)"
      ]
    },
    {
      "cell_type": "code",
      "execution_count": null,
      "metadata": {
        "id": "nUfjAd81Yn-s"
      },
      "outputs": [],
      "source": [
        "plt.figure(figsize = ( 6 , 6 )) \n",
        "  \n",
        "sns.regplot(x=y_test, y=y_pred_lr, color='coral') #true vs predict\n",
        "  \n",
        "plt.xlabel( \"y_test (log_kBtu)\" , size = 12 ) \n",
        "  \n",
        "plt.ylabel(  \"y_pred (log_kBtu)\"  , size = 12 ) \n",
        "  \n",
        "plt.title( \"True vs Predicts\" , size = 15 ) \n",
        "  \n",
        "plt.show() \n"
      ]
    },
    {
      "cell_type": "code",
      "execution_count": null,
      "metadata": {
        "id": "A5KgQQFvWa3S"
      },
      "outputs": [],
      "source": [
        "# regression intercept\n",
        "print('Intercept:' ,lr.intercept_) \n",
        "\n",
        "#score de la régression sur le test\n",
        "print('R2_test:', lr.score(X_test, y_test))\n",
        "print ('MSE (lr, pred):', mean_squared_error (y_test, y_pred_lr))\n"
      ]
    },
    {
      "cell_type": "code",
      "source": [
        "df_coef_lr= pd.DataFrame(lr.coef_, index=X_train.columns)\n",
        "df_coef_lr.columns=['lr Baseline']\n",
        "df_coef_lr"
      ],
      "metadata": {
        "id": "vmXtubSpYDgp"
      },
      "execution_count": null,
      "outputs": []
    },
    {
      "cell_type": "code",
      "source": [
        "df_coef_lr.plot.bar(title='Coefficients')"
      ],
      "metadata": {
        "id": "7icHf-wvOIQt"
      },
      "execution_count": null,
      "outputs": []
    },
    {
      "cell_type": "code",
      "source": [
        "explainer = shap.LinearExplainer(lr, X_train)\n",
        "shap_values = explainer.shap_values(X_train)\n",
        "f = plt.figure()\n",
        "shap.summary_plot(shap_values, X_train)"
      ],
      "metadata": {
        "id": "j73MZ8L9x4ha"
      },
      "execution_count": null,
      "outputs": []
    },
    {
      "cell_type": "code",
      "execution_count": null,
      "metadata": {
        "id": "HIMX-935aqPD"
      },
      "outputs": [],
      "source": [
        "df_y_predLR= pd.DataFrame(y_pred_lr)"
      ]
    },
    {
      "cell_type": "code",
      "execution_count": null,
      "metadata": {
        "id": "tIgM-4mYadoa"
      },
      "outputs": [],
      "source": [
        "df_y_predLR= pd.DataFrame(y_pred_lr)\n",
        "\n",
        "# plot for residual error\n",
        " \n",
        "## setting plot style\n",
        "plt.style.use('fivethirtyeight')\n",
        " \n",
        "\n",
        "## plotting residual errors in test data\n",
        "plt.scatter(x=df_y_predLR.index, y=lr.predict(X_test) - y_test,\n",
        "            color = \"blue\", s = 10, label = 'Test data')\n",
        "#plt.scatter((X_train).index, lr.predict(X_train) - y_train,\n",
        "           # color = \"coral\", s = 10, label = 'Train data')\n",
        " \n",
        "## plotting line for zero residual error\n",
        "plt.hlines(y = 0, xmin = 0, xmax = 250, linewidth = 2)\n",
        " \n",
        "## plotting legend\n",
        "plt.legend(loc = 'upper right')\n",
        " \n",
        "## plot title\n",
        "plt.ylabel('Error Rate')\n",
        "plt.title(\"Residual errors\")\n",
        "\n",
        " \n",
        "## function to show plot\n",
        "plt.show()\n"
      ]
    },
    {
      "cell_type": "markdown",
      "metadata": {
        "id": "Fy8rPvnIi_mZ"
      },
      "source": [
        "### Regression Ridge CV"
      ]
    },
    {
      "cell_type": "code",
      "execution_count": null,
      "metadata": {
        "id": "f7h5DAK8jFHQ"
      },
      "outputs": [],
      "source": [
        "n_alphas = 200\n",
        "alphas=np.logspace(-3, 3, n_alphas) \n",
        "\n",
        "#Entraînement du modèle \n",
        "from sklearn.linear_model import Ridge\n",
        "ridge = linear_model.Ridge()\n",
        "\n",
        "coefs = []\n",
        "squared_r = []\n",
        "errors_MSE = []\n",
        "\n",
        "\n",
        "for a in alphas:\n",
        "    ridge.set_params(alpha=a) \n",
        "    ridge.fit(X_train, y_train)\n",
        "    coefs.append(ridge.coef_)\n",
        "    score_MSE_R=cross_val_score (ridge, X_train, y_train, cv=5, scoring='neg_mean_squared_error')\n",
        "    score_r2_R=cross_val_score (ridge, X_train, y_train, cv=5, scoring='r2')\n",
        "    squared_r.append([np.mean(r2_lr_baseline), np.mean(score_r2_R)])\n",
        "    errors_MSE.append([np.mean(MSE_lr_baseline*(-1)), -np.mean(score_MSE_R)])\n",
        "  "
      ]
    },
    {
      "cell_type": "code",
      "source": [
        "errors_MSE"
      ],
      "metadata": {
        "id": "AASPkzH8R7DV"
      },
      "execution_count": null,
      "outputs": []
    },
    {
      "cell_type": "code",
      "source": [
        "# Fonction qui recherche l'erreur minimale et donne son index\n",
        "def min_alpha(errors):\n",
        "  index=0\n",
        "  min_val=10\n",
        "  for i, error in enumerate (errors): #fonction qui à chaque boucle écrase min val et index\n",
        "    if error[1]<min_val:\n",
        "      min_val=error[1]\n",
        "      index=i\n",
        "  return index #on stocke l'index de l'erreur minimale et à chaque fois qu'on trouve une erreur plus petite on remplace l'index et le min val de maniere à mettre à jour la valeur la plus petite. \n",
        " "
      ],
      "metadata": {
        "id": "lc2soF5wVnoI"
      },
      "execution_count": null,
      "outputs": []
    },
    {
      "cell_type": "code",
      "source": [
        "min(errors_MSE)"
      ],
      "metadata": {
        "id": "4N1wIJhYSMJK"
      },
      "execution_count": null,
      "outputs": []
    },
    {
      "cell_type": "code",
      "execution_count": null,
      "metadata": {
        "id": "4oSlVV_AjF6F"
      },
      "outputs": [],
      "source": [
        "#Chemin de régularisation \n",
        "ax = plt.gca()\n",
        "\n",
        "ax.plot(alphas, coefs)\n",
        "ax.set_xscale('log')\n",
        "plt.xlabel('alpha')\n",
        "plt.ylabel('poids')\n",
        "plt.title( 'Chemin de regularisation')\n",
        "plt.axis('tight')\n",
        "plt.show()"
      ]
    },
    {
      "cell_type": "code",
      "execution_count": null,
      "metadata": {
        "id": "471-0oT2jGB9"
      },
      "outputs": [],
      "source": [
        "# Evolution de MSE en fonction de alpha (Train)\n",
        "ax = plt.gca()\n",
        "\n",
        "ax.plot(alphas, errors_MSE)\n",
        "ax.set_xscale('log')\n",
        "plt.xlabel('alpha')\n",
        "plt.ylabel('MSE')\n",
        "plt.title( 'Erreur en fonction de alpha')\n",
        "plt.axis('tight')\n",
        "plt.show()"
      ]
    },
    {
      "cell_type": "code",
      "source": [
        "# Evolution de R2 en fonction du coeff alpha \n",
        "ax = plt.gca()\n",
        "\n",
        "ax.plot(alphas, squared_r)\n",
        "ax.set_xscale('log')\n",
        "plt.xlabel('alpha')\n",
        "plt.ylabel('R2')\n",
        "plt.title(\"R2 en fonction de alpha\")\n",
        "plt.axis('tight')\n",
        "plt.show()"
      ],
      "metadata": {
        "id": "N146_fSvO5QY"
      },
      "execution_count": null,
      "outputs": []
    },
    {
      "cell_type": "code",
      "execution_count": null,
      "metadata": {
        "id": "3mv3yHFhjGJ-"
      },
      "outputs": [],
      "source": [
        "index=min_alpha(errors_MSE)\n",
        "index"
      ]
    },
    {
      "cell_type": "code",
      "execution_count": null,
      "metadata": {
        "id": "eJTMnoJpGXgi"
      },
      "outputs": [],
      "source": [
        "alphas[index]"
      ]
    },
    {
      "cell_type": "code",
      "source": [
        "coefs[index]"
      ],
      "metadata": {
        "id": "eSUynrnuSmQ1"
      },
      "execution_count": null,
      "outputs": []
    },
    {
      "cell_type": "code",
      "source": [
        "errors_MSE[index]"
      ],
      "metadata": {
        "id": "hJuTOElvkd4j"
      },
      "execution_count": null,
      "outputs": []
    },
    {
      "cell_type": "code",
      "source": [
        "squared_r[index]"
      ],
      "metadata": {
        "id": "AlzMTU6Vkxal"
      },
      "execution_count": null,
      "outputs": []
    },
    {
      "cell_type": "code",
      "execution_count": null,
      "metadata": {
        "id": "_z9YkyJDGkYJ"
      },
      "outputs": [],
      "source": [
        "#J'applique le meilleur alpha sur la regression Ridge: \n",
        "ridge_b = linear_model.Ridge(alpha=alphas[index])\n",
        "%timeit ridge_b.fit(X_train, y_train)"
      ]
    },
    {
      "cell_type": "code",
      "source": [
        "ridge_b.score(X_train, y_train)"
      ],
      "metadata": {
        "id": "HoXCQUrMS0Wf"
      },
      "execution_count": null,
      "outputs": []
    },
    {
      "cell_type": "code",
      "execution_count": null,
      "metadata": {
        "id": "d7aX8C3XGmCC"
      },
      "outputs": [],
      "source": [
        "y_pred_r=ridge_b.predict(X_test)"
      ]
    },
    {
      "cell_type": "code",
      "source": [
        "plt.figure(figsize = ( 6 , 6 )) \n",
        "  \n",
        "sns.regplot(x=y_test, y=y_pred_r, color='coral') #true vs predict\n",
        "  \n",
        "plt.xlabel( \"y_test (log_kBtu)\" , size = 12 ) \n",
        "  \n",
        "plt.ylabel(  \"y_pred (log_kBtu)\"  , size = 12 ) \n",
        "  \n",
        "plt.title( \"True vs Predicts\" , size = 15 ) \n",
        "  \n",
        "plt.show() \n"
      ],
      "metadata": {
        "id": "CzGhfLKftY7y"
      },
      "execution_count": null,
      "outputs": []
    },
    {
      "cell_type": "code",
      "source": [
        "# regression intercept\n",
        "print('Intercept:' ,ridge_b.intercept_) \n",
        "\n",
        "#score de la régression sur le test\n",
        "print('R2_test:', ridge_b.score(X_test, y_test))\n",
        "print ('MSE (lr, pred):', mean_squared_error (y_test, y_pred_r))"
      ],
      "metadata": {
        "id": "cXTYdt6st_3X"
      },
      "execution_count": null,
      "outputs": []
    },
    {
      "cell_type": "code",
      "source": [
        "df_y_pred_r= pd.DataFrame(y_pred_r)\n",
        "\n",
        "# plot for residual error\n",
        " \n",
        "## setting plot style\n",
        "plt.style.use('fivethirtyeight')\n",
        " \n",
        "\n",
        "## plotting residual errors in test data\n",
        "plt.scatter(x=df_y_pred_r.index, y=ridge_b.predict(X_test) - y_test,\n",
        "            color = \"blue\", s = 10, label = 'Test data')\n",
        "#plt.scatter((X_train).index, lr.predict(X_train) - y_train,\n",
        "           # color = \"coral\", s = 10, label = 'Train data')\n",
        " \n",
        "## plotting line for zero residual error\n",
        "plt.hlines(y = 0, xmin = 0, xmax = 250, linewidth = 2)\n",
        " \n",
        "## plotting legend\n",
        "plt.legend(loc = 'upper right')\n",
        " \n",
        "## plot title\n",
        "plt.ylabel('Error Rate')\n",
        "plt.title(\"Residual errors\")\n",
        "\n",
        " \n",
        "## function to show plot\n",
        "plt.show()"
      ],
      "metadata": {
        "id": "L52L2bC3tmv6"
      },
      "execution_count": null,
      "outputs": []
    },
    {
      "cell_type": "code",
      "source": [
        "df_coef_R= pd.DataFrame(ridge_b.coef_, index=X_train.columns)\n",
        "df_coef_R.columns=['Ridge']\n",
        "df_coef_R"
      ],
      "metadata": {
        "id": "nvs0E2DScZs1"
      },
      "execution_count": null,
      "outputs": []
    },
    {
      "cell_type": "code",
      "source": [
        "df_coef_R.index"
      ],
      "metadata": {
        "id": "VNkXiSNoof6z"
      },
      "execution_count": null,
      "outputs": []
    },
    {
      "cell_type": "code",
      "source": [
        "df_coef_R.plot.bar(title='Coefficients')"
      ],
      "metadata": {
        "id": "__GYhvsqjUbv"
      },
      "execution_count": null,
      "outputs": []
    },
    {
      "cell_type": "code",
      "source": [
        "explainer = shap.LinearExplainer(ridge_b, X_train)\n",
        "shap_values = explainer.shap_values(X_train)\n",
        "f = plt.figure()\n",
        "shap.summary_plot(shap_values, X_train)"
      ],
      "metadata": {
        "id": "T_9Ev73Mx-In"
      },
      "execution_count": null,
      "outputs": []
    },
    {
      "cell_type": "code",
      "source": [
        "explainer = shap.LinearExplainer(ridge_b, X_test)\n",
        "shap_values = explainer.shap_values(X_test)\n",
        "f = plt.figure()\n",
        "shap.summary_plot(shap_values, X_test)"
      ],
      "metadata": {
        "id": "jOv80XpEdZwl"
      },
      "execution_count": null,
      "outputs": []
    },
    {
      "cell_type": "code",
      "source": [
        "#Evaluation de la régression Ridge:\n",
        "# sur le jeu train en cross validation :\n",
        "print ('MSE_BaselineCV vs RidgeCV:', errors_MSE[index])\n",
        "print ('r2__BaselineCV vs RidgeCV:', squared_r[index])\n",
        "\n",
        "#Evaluation du modèle sur le test :\n",
        "print ('R2_test:', r2_score (y_test, y_pred_r))\n",
        "print ('MSE_test:', mean_squared_error (y_test, y_pred_r))\n"
      ],
      "metadata": {
        "id": "gKcZqQmJZKh6"
      },
      "execution_count": null,
      "outputs": []
    },
    {
      "cell_type": "markdown",
      "source": [
        "Regression Ridge avec alpha optimal en CV permet de diminuer la MSE et le modèle est régularisé. C'est le meilleur modèle linéaire. Le lasso régularise très peu et la MSE ne diminue pas. "
      ],
      "metadata": {
        "id": "LKQ0J_GJYGYU"
      }
    },
    {
      "cell_type": "markdown",
      "metadata": {
        "id": "lqXyaARpjG2K"
      },
      "source": [
        "### Lasso"
      ]
    },
    {
      "cell_type": "code",
      "execution_count": null,
      "metadata": {
        "id": "G3C_fEq2jIdS"
      },
      "outputs": [],
      "source": [
        "#Entraînement du lasso sur le jeu d'entraînement \n",
        "n_alphas = 200\n",
        "a = np.logspace(-3, 3, n_alphas)\n",
        "lasso = linear_model.Lasso()\n",
        "\n",
        "coefs_l = []\n",
        "errors_l = []\n",
        "squared_r_l=[]\n",
        "\n",
        "for a in alphas:\n",
        "    lasso.set_params(alpha=a)\n",
        "    lasso.fit(X_train, y_train) \n",
        "    coefs_l.append(lasso.coef_)\n",
        "    score_MSE_l =cross_val_score (lasso, X_train, y_train, cv=5, scoring='neg_mean_squared_error')\n",
        "    score_r2_l=cross_val_score (lasso, X_train, y_train, cv=5, scoring='r2')\n",
        "    squared_r_l.append([np.mean(r2_lr_baseline), np.mean(score_r2_l)])\n",
        "    errors_l.append([np.mean(MSE_lr_baseline*(-1)), -np.mean(score_MSE_l)])\n",
        "    "
      ]
    },
    {
      "cell_type": "code",
      "execution_count": null,
      "metadata": {
        "id": "RtTQmUVj8J_J"
      },
      "outputs": [],
      "source": [
        "#Chemin de régularisation (lasso)\n",
        "ax = plt.gca()\n",
        "\n",
        "ax.plot(alphas, coefs_l)\n",
        "ax.set_xscale('log')\n",
        "plt.xlabel('alpha')\n",
        "plt.ylabel('poids')\n",
        "plt.title('Lasso coefficients, Chemin de regularisation')\n",
        "plt.axis('tight')\n",
        "plt.show()"
      ]
    },
    {
      "cell_type": "code",
      "source": [
        "\n",
        "ax = plt.gca()\n",
        "\n",
        "ax.plot(alphas, errors_l)\n",
        "ax.set_xscale('log')\n",
        "plt.xlabel('alpha')\n",
        "plt.ylabel('error')\n",
        "plt.axis('tight')\n",
        "plt.title('Erreur en fonction de alpha')\n",
        "plt.show()"
      ],
      "metadata": {
        "id": "-ep3HRfPxP-i"
      },
      "execution_count": null,
      "outputs": []
    },
    {
      "cell_type": "code",
      "source": [
        "ax = plt.gca()\n",
        "\n",
        "ax.plot(alphas, squared_r_l)\n",
        "ax.set_xscale('log')\n",
        "plt.xlabel('alpha')\n",
        "plt.ylabel('R2')\n",
        "plt.title(\"R2 en fonction de alpha\")\n",
        "plt.axis('tight')\n",
        "plt.show()"
      ],
      "metadata": {
        "id": "v-UFdXs9ZKqk"
      },
      "execution_count": null,
      "outputs": []
    },
    {
      "cell_type": "code",
      "source": [
        "min(errors_l)"
      ],
      "metadata": {
        "id": "fzrcmY0GUIDP"
      },
      "execution_count": null,
      "outputs": []
    },
    {
      "cell_type": "code",
      "source": [
        "#alpha optimal \n",
        "index=min_alpha(errors_l)\n"
      ],
      "metadata": {
        "id": "tFvuAOohxcHS"
      },
      "execution_count": null,
      "outputs": []
    },
    {
      "cell_type": "code",
      "source": [
        "index"
      ],
      "metadata": {
        "id": "mG3wyycLxmya"
      },
      "execution_count": null,
      "outputs": []
    },
    {
      "cell_type": "code",
      "source": [
        "errors_l[index] "
      ],
      "metadata": {
        "id": "NGnVJlFMxsif"
      },
      "execution_count": null,
      "outputs": []
    },
    {
      "cell_type": "code",
      "source": [
        "alphas[index]"
      ],
      "metadata": {
        "id": "5InappC5xtX5"
      },
      "execution_count": null,
      "outputs": []
    },
    {
      "cell_type": "code",
      "source": [
        "#j'applique le meilleur alpha sur le modèle lasso:\n",
        "\n",
        "lasso = linear_model.Lasso(alpha=alphas[index])\n",
        "%timeit lasso.fit(X_train, y_train)\n"
      ],
      "metadata": {
        "id": "rh9noMg8VQeU"
      },
      "execution_count": null,
      "outputs": []
    },
    {
      "cell_type": "code",
      "source": [
        "y_pred_l=lasso.predict(X_test)"
      ],
      "metadata": {
        "id": "IG-qIszLbH6Q"
      },
      "execution_count": null,
      "outputs": []
    },
    {
      "cell_type": "code",
      "source": [
        "coefs_l[index]"
      ],
      "metadata": {
        "id": "mLaYH0vsYhJC"
      },
      "execution_count": null,
      "outputs": []
    },
    {
      "cell_type": "code",
      "source": [
        "lasso.coef_"
      ],
      "metadata": {
        "id": "8_4S2MaGYwno"
      },
      "execution_count": null,
      "outputs": []
    },
    {
      "cell_type": "code",
      "source": [
        "df_coef_l= pd.DataFrame(lasso.coef_, index=X_train.columns) \n",
        "df_coef_l.columns=['Lasso']\n",
        "df_coef_l"
      ],
      "metadata": {
        "id": "B-NsU2OvcDbJ"
      },
      "execution_count": null,
      "outputs": []
    },
    {
      "cell_type": "code",
      "source": [
        "shap.summary_plot(shap_values, X_train, plot_type=\"bar\")"
      ],
      "metadata": {
        "id": "4LYfbX47VziD"
      },
      "execution_count": null,
      "outputs": []
    },
    {
      "cell_type": "code",
      "source": [
        "explainer = shap.LinearExplainer(lasso, X_train)\n",
        "shap_values = explainer.shap_values(X_train)\n",
        "f = plt.figure()\n",
        "shap.summary_plot(shap_values, X_train)"
      ],
      "metadata": {
        "id": "nOAtsK_JryXJ"
      },
      "execution_count": null,
      "outputs": []
    },
    {
      "cell_type": "code",
      "source": [
        "#Evaluation du modèle LassoS:\n",
        "# sur le jeu train en cross validation :\n",
        "print ('MSE_baselineCV vs LassoCV:',errors_l[index] )\n",
        "print ('r2_baselineCV vs LassoCV:', squared_r_l[index])\n",
        "\n",
        "#Evaluation du modèle sur le test :\n",
        "print ('r2 (test):', r2_score (y_test, y_pred_l))\n",
        "print ('MSE (test):', mean_squared_error (y_test, y_pred_l))"
      ],
      "metadata": {
        "id": "uuHwDl0Ea959"
      },
      "execution_count": null,
      "outputs": []
    },
    {
      "cell_type": "markdown",
      "source": [
        "### Conclusion des modèles linéaires\n",
        "La régularisation Ridge permet de légèrement corriger le modèle. C'est le meilleur modèle linéaire. La MSE test est meilleure que la MSE train et l'erreur est stable au fur et à mesure des prédictions.\n",
        "\n",
        " L'EnergyStar score a un coefficient très faible dans les modèles linéaires.  Les coefficients les plus forts sont l'utilisation de la vapeur d'eau et du gaz puis la surface des bâtiments.\n",
        "L'analyse par shap values montre que l'Energy Star score a une contribution modérée dans le modèle, après la surface et l'utilisation du gaz. \n",
        "\n",
        "Je vais tester un modèle non linéaire pour voir si il est plus adapté."
      ],
      "metadata": {
        "id": "x2kD0VM_YlJ1"
      }
    },
    {
      "cell_type": "markdown",
      "source": [
        "##Random Forest Regressor (RandomizedSearchCV)"
      ],
      "metadata": {
        "id": "EypN3Xc11HE6"
      }
    },
    {
      "cell_type": "code",
      "source": [
        "# Number of trees in random forest\n",
        "n_estimators = [int(x) for x in np.linspace(start = 200, stop = 1000, num = 10)] # je test 10 estimateurs entre 200 et 1000\n",
        "# Number of features to consider at every split\n",
        "max_features = ['auto']\n",
        "# Maximum number of levels in tree\n",
        "max_depth = [int(x) for x in np.linspace(5, 50, num = 10)] #nb étages dans l'arbre \n",
        "#max_depth.append(None)\n",
        "# Minimum number of samples required to split a node\n",
        "min_samples_split = [2, 5, 10] #nb échantillons par feuille et créer un noeud \n",
        "# Minimum number of samples required at each leaf node\n",
        "min_samples_leaf = [1, 2, 4] #nb min d'échantillon par feuille : permet de limiter la profondeur de l'arbre et donc l'overfitting \n",
        "# Method of selecting samples for training each tree\n",
        "bootstrap = [True, False] # randomnisation et aggrégation des résultats : permet d'éviter l'overfitting"
      ],
      "metadata": {
        "id": "jGn6cp0m1MqS"
      },
      "execution_count": null,
      "outputs": []
    },
    {
      "cell_type": "code",
      "source": [
        "# Create the random grid\n",
        "\n",
        "random_grid = {'n_estimators': n_estimators,\n",
        "               'max_features': max_features,\n",
        "               'max_depth': max_depth,\n",
        "               'min_samples_split': min_samples_split,\n",
        "               'min_samples_leaf': min_samples_leaf,\n",
        "               'bootstrap': bootstrap}\n",
        "              "
      ],
      "metadata": {
        "id": "-C9pagY0e4tZ"
      },
      "execution_count": null,
      "outputs": []
    },
    {
      "cell_type": "code",
      "source": [
        "# Utilisation de la random_grid pour trouver les meilleurs paramètres du modèles\n",
        "# First create the base model to tune\n",
        "rf = RandomForestRegressor()\n",
        "# Random search of parameters, using 5 fold cross validation, \n",
        "# search across 50 different combinations, and use all available cores\n",
        "rf_random = RandomizedSearchCV(estimator = rf, param_distributions = random_grid, cv = 5, verbose=2, random_state=30, n_jobs = -1, scoring=['neg_mean_squared_error','r2'], refit='neg_mean_squared_error') #refit: cherhce à optimiser la mse # par défaut le score est le R2 mais comme le modèle n'est pa slinéaire il faut changer \n",
        "# Fit the random search model\n",
        "rf_random.fit(X_train, y_train) "
      ],
      "metadata": {
        "id": "JtwVEe-he82y"
      },
      "execution_count": null,
      "outputs": []
    },
    {
      "cell_type": "code",
      "source": [
        "rf_random.best_params_"
      ],
      "metadata": {
        "id": "9Ooj2zM3fFrG"
      },
      "execution_count": null,
      "outputs": []
    },
    {
      "cell_type": "code",
      "source": [
        "n_estimators = rf_random.best_params_['n_estimators']\n",
        "min_samples_split=  rf_random.best_params_['min_samples_split']\n",
        "min_samples_leaf=rf_random.best_params_['min_samples_leaf']\n",
        "max_features=rf_random.best_params_['max_features']\n",
        "max_depth =rf_random.best_params_['max_depth']\n",
        "bootstrap =rf_random.best_params_['bootstrap']"
      ],
      "metadata": {
        "id": "9DpDHaLtfhTd"
      },
      "execution_count": null,
      "outputs": []
    },
    {
      "cell_type": "code",
      "source": [
        "# Applications des best params du randomizedSearchCV\n",
        "\n",
        "rf_best = RandomForestRegressor(n_estimators = n_estimators,\n",
        "min_samples_split=min_samples_split ,\n",
        "min_samples_leaf=min_samples_leaf,\n",
        "max_features=max_features,\n",
        "max_depth =max_depth,\n",
        "bootstrap =bootstrap)\n",
        "\n",
        "# Fit the random search model\n",
        "%timeit rf_best.fit(X_train, y_train)"
      ],
      "metadata": {
        "id": "2U1dAvJWflbb"
      },
      "execution_count": null,
      "outputs": []
    },
    {
      "cell_type": "code",
      "source": [
        "# Evaluation de la RF: MSE \n",
        "#c'est la neg mse en validation croisée \n",
        "# 5 fold, 5 scores par random forest et celle qui a le meilleur score \n",
        "rf_random.best_score_\n",
        "MSE_RF_best=(rf_random.best_score_)*(-1)"
      ],
      "metadata": {
        "id": "vQo5FT1Lflzb"
      },
      "execution_count": null,
      "outputs": []
    },
    {
      "cell_type": "code",
      "source": [
        "MSE_RF_best"
      ],
      "metadata": {
        "id": "Bd-ibwZsjx0R"
      },
      "execution_count": null,
      "outputs": []
    },
    {
      "cell_type": "code",
      "source": [
        "df_Features_importance_RF_Best= pd.DataFrame(rf_best.feature_importances_, index=X_train.columns)\n",
        "df_Features_importance_RF_Best.columns=['Random Forest (best)']\n",
        "df_Features_importance_RF_Best"
      ],
      "metadata": {
        "id": "R-00_TEcd_Wt"
      },
      "execution_count": null,
      "outputs": []
    },
    {
      "cell_type": "code",
      "source": [
        "df_Features_importance_RF_Best.plot.bar(title='Feature importance')"
      ],
      "metadata": {
        "id": "x3rfkn6hapfR"
      },
      "execution_count": null,
      "outputs": []
    },
    {
      "cell_type": "code",
      "source": [
        "explainer = shap.TreeExplainer(rf_best, X_train)\n",
        "shap_values = explainer.shap_values(X_train)\n",
        "f = plt.figure()\n",
        "shap.summary_plot(shap_values, X_train)"
      ],
      "metadata": {
        "id": "h0xR3vDbb2a_"
      },
      "execution_count": null,
      "outputs": []
    },
    {
      "cell_type": "code",
      "source": [
        "explainer = shap.TreeExplainer(rf_best, X_test)\n",
        "shap_values = explainer.shap_values(X_test)\n",
        "f = plt.figure()\n",
        "shap.summary_plot(shap_values, X_test)"
      ],
      "metadata": {
        "id": "UhLTWnEjtIcn"
      },
      "execution_count": null,
      "outputs": []
    },
    {
      "cell_type": "markdown",
      "source": [
        "La RF n'apporte pas une meilleure erreur et le temps d'entrainement est plus long. Le % de contribution de l'EnergyStar score dans le modèle RF est plus important et légèrement plus modéré dans l'analyse shap. \n",
        "Je ne choisis pas ce modèle."
      ],
      "metadata": {
        "id": "ipxU7HwXwWcy"
      }
    },
    {
      "cell_type": "markdown",
      "source": [
        "## Choix du modèle : RidgeCV"
      ],
      "metadata": {
        "id": "wUR9OHTTfB--"
      }
    },
    {
      "cell_type": "code",
      "source": [
        "from math import exp"
      ],
      "metadata": {
        "id": "j7RbSfggrIE2"
      },
      "execution_count": null,
      "outputs": []
    },
    {
      "cell_type": "code",
      "source": [
        "#Evaluation de la régression Ridge:\n",
        "# sur le jeu train en cross validation :\n",
        "print ('MSE_BaselineCV vs RidgeCV:', errors_MSE[index])\n",
        "print ('r2__BaselineCV vs RidgeCV:', squared_r[index])\n",
        "print('MSE RF_Best:', MSE_RF_best)\n",
        "\n",
        "#Evaluation du modèle sur le test :\n",
        "print ('R2_test Ridge:', r2_score (y_test, y_pred_r))\n",
        "print ('MSE_test Ridge:', mean_squared_error (y_test, y_pred_r))\n",
        "\n",
        "# Repasser les MSE en KbTu\n",
        "\n",
        "print(\"MSE(Metric/tons/C02) Ridge:\", exp(0.487630140151284))\n",
        "print(\"MSE(Metric/tons/C02) lr_baseline:\", exp(0.487630165218888))"
      ],
      "metadata": {
        "id": "HfnEwGljbiRT"
      },
      "execution_count": null,
      "outputs": []
    },
    {
      "cell_type": "code",
      "source": [
        "Features_results_CO2= pd.concat([df_coef_lr,df_coef_R, df_coef_l,df_Features_importance_RF_Best], axis=1)\n",
        "Features_results_CO2"
      ],
      "metadata": {
        "id": "A5vRGEGaeGBR"
      },
      "execution_count": null,
      "outputs": []
    },
    {
      "cell_type": "markdown",
      "source": [
        "Conclusion : Le meilleur modèle est la régression linéaire régularisée par Ridge. \n"
      ],
      "metadata": {
        "id": "TnqqG6cFlDpR"
      }
    },
    {
      "cell_type": "markdown",
      "source": [
        "## Select From Model sur Ridge\n",
        "Importance des variables dans le meilleur modèle "
      ],
      "metadata": {
        "id": "q0ZXuRpWWodL"
      }
    },
    {
      "cell_type": "code",
      "source": [
        "#SElect From Model: voir importance des variables en particulier l'EnergyStarscore \n",
        "from sklearn.feature_selection import SelectFromModel"
      ],
      "metadata": {
        "id": "NiGuyTw6h5qQ"
      },
      "execution_count": null,
      "outputs": []
    },
    {
      "cell_type": "code",
      "source": [
        "selector = SelectFromModel(estimator=ridge_b).fit(X_train, y_train) # threshold=mean(coef)"
      ],
      "metadata": {
        "id": "4Bgx8T3xWumH"
      },
      "execution_count": null,
      "outputs": []
    },
    {
      "cell_type": "code",
      "source": [
        "selector.threshold_\n"
      ],
      "metadata": {
        "id": "zRI4xdYIXF47"
      },
      "execution_count": null,
      "outputs": []
    },
    {
      "cell_type": "code",
      "source": [
        "selector.get_support()"
      ],
      "metadata": {
        "id": "4sPac55MWvSM"
      },
      "execution_count": null,
      "outputs": []
    },
    {
      "cell_type": "code",
      "source": [
        "X_train_Select= selector.transform(X_train)"
      ],
      "metadata": {
        "id": "4YyRmA2MXdwU"
      },
      "execution_count": null,
      "outputs": []
    },
    {
      "cell_type": "code",
      "source": [
        "# Pour récupérer les variables selectionnées ou non (array True ou Flase)\n",
        "list_columns=X_train.columns\n",
        "new_columns=[]\n",
        "for i, columns in enumerate (list_columns):\n",
        "  if selector.get_support()[i]== True :\n",
        "    new_columns.append(columns)"
      ],
      "metadata": {
        "id": "n53OO5P9V1Ei"
      },
      "execution_count": null,
      "outputs": []
    },
    {
      "cell_type": "code",
      "source": [
        "new_columns"
      ],
      "metadata": {
        "id": "jB1p7ijtmh2T"
      },
      "execution_count": null,
      "outputs": []
    },
    {
      "cell_type": "code",
      "source": [
        "df_X_train_Select = pd.DataFrame(X_train_Select, columns=new_columns)"
      ],
      "metadata": {
        "id": "UFz2KDFnXqTZ"
      },
      "execution_count": null,
      "outputs": []
    },
    {
      "cell_type": "code",
      "source": [
        "df_X_train_Select"
      ],
      "metadata": {
        "id": "5BFihITfXzlw"
      },
      "execution_count": null,
      "outputs": []
    },
    {
      "cell_type": "markdown",
      "source": [
        "## Conclusions"
      ],
      "metadata": {
        "id": "IFPke_xZmlFW"
      }
    },
    {
      "cell_type": "markdown",
      "source": [
        "L'erreur la plus faible est dans le modèle linéaire Ridge(CV). L'erreur ramenée en MetricTonsCO2 n'est pas négligeable.\n",
        "Je choisis la régularisation Ridge, modèle régularisé, plus stable que le lasso, meilleure MSE.\n",
        "La surface, le type de bâtiments et l'utilisation du gaz naturel sont les variables qui ont le plus d'importance dans modèle choisi pour prédire le CO2.\n",
        "L'EnergyStarScore est de poids modéré dans le modèle (interprétation shap values), son poids est inférieur au poids moyen des variables, c'est pourquoi elle n'est pas retenue par le SElectFromModel.\n",
        "Le temps d'entrainement de Ridge (alpha optimal), une fois les meilleurs paramètres obtenus, est comparable au modèle linéaire et bien inférieur à la RF."
      ],
      "metadata": {
        "id": "qWhQ4QXjmxtl"
      }
    },
    {
      "cell_type": "markdown",
      "source": [
        "Testes supplémentaires : Ridge sans EnergySatrScore"
      ],
      "metadata": {
        "id": "rWW93KVt3Z86"
      }
    },
    {
      "cell_type": "code",
      "source": [
        "datareg_=datareg_[['log_LargestPropertyUseTypeGFA', 'Enc_LargestPropertyType', 'enc_NbFloors', 'enc_Year_slice',\n",
        "        'Bin_NaturalGas(kBtu)', 'Bin_SteamUse(kBtu)', 'log_GHGEmissions(MetricTonsCO2e)']]"
      ],
      "metadata": {
        "id": "7wipozZ13u8t"
      },
      "execution_count": null,
      "outputs": []
    },
    {
      "cell_type": "code",
      "source": [
        "X=datareg_[datareg_.columns[:-1]]\n",
        "y=datareg_['log_GHGEmissions(MetricTonsCO2e)']\n",
        "\n",
        "X_train, X_test, y_train, y_test = train_test_split(X,y, test_size=0.3, random_state=100)"
      ],
      "metadata": {
        "id": "NxBp11Ia3vHX"
      },
      "execution_count": null,
      "outputs": []
    },
    {
      "cell_type": "code",
      "source": [
        "lr = linear_model.LinearRegression()"
      ],
      "metadata": {
        "id": "v6u57bfg4Bew"
      },
      "execution_count": null,
      "outputs": []
    },
    {
      "cell_type": "code",
      "source": [
        "%timeit lr.fit(X_train, y_train)"
      ],
      "metadata": {
        "id": "kxGBQypO4Tup"
      },
      "execution_count": null,
      "outputs": []
    },
    {
      "cell_type": "code",
      "source": [
        "# évaluation du modèle en CV sur le jeu d'entrainement :\n",
        "MSE_lr_baseline= cross_val_score (lr, X_train, y_train, cv=5, scoring='neg_mean_squared_error') \n",
        "r2_lr_baseline= cross_val_score (lr, X_train, y_train, cv=5, scoring='r2')"
      ],
      "metadata": {
        "id": "YPw-tP3C4Txj"
      },
      "execution_count": null,
      "outputs": []
    },
    {
      "cell_type": "code",
      "source": [
        "MSE_lr_baseline"
      ],
      "metadata": {
        "id": "7QAN7_6n4T1P"
      },
      "execution_count": null,
      "outputs": []
    },
    {
      "cell_type": "code",
      "source": [
        "r2_lr_baseline"
      ],
      "metadata": {
        "id": "nNTv-N0U4T4P"
      },
      "execution_count": null,
      "outputs": []
    },
    {
      "cell_type": "code",
      "source": [
        "n_alphas = 200\n",
        "alphas=np.logspace(-3, 3, n_alphas) \n",
        "\n",
        "#Entraînement du modèle \n",
        "from sklearn.linear_model import Ridge\n",
        "ridge = linear_model.Ridge()\n",
        "\n",
        "coefs = []\n",
        "squared_r = []\n",
        "errors_MSE = []\n",
        "\n",
        "\n",
        "for a in alphas:\n",
        "    ridge.set_params(alpha=a) \n",
        "    ridge.fit(X_train, y_train)\n",
        "    coefs.append(ridge.coef_)\n",
        "    score_MSE_R=cross_val_score (ridge, X_train, y_train, cv=5, scoring='neg_mean_squared_error')\n",
        "    score_r2_R=cross_val_score (ridge, X_train, y_train, cv=5, scoring='r2')\n",
        "    squared_r.append([np.mean(r2_lr_baseline), np.mean(score_r2_R)])\n",
        "    errors_MSE.append([np.mean(MSE_lr_baseline*(-1)), -np.mean(score_MSE_R)])\n",
        "  "
      ],
      "metadata": {
        "id": "225FT92U44Ki"
      },
      "execution_count": null,
      "outputs": []
    },
    {
      "cell_type": "code",
      "source": [
        "min(errors_MSE)"
      ],
      "metadata": {
        "id": "LBmFNFmi49Zb"
      },
      "execution_count": null,
      "outputs": []
    },
    {
      "cell_type": "code",
      "source": [],
      "metadata": {
        "id": "DVlhlKgn5GQ6"
      },
      "execution_count": null,
      "outputs": []
    }
  ],
  "metadata": {
    "colab": {
      "toc_visible": true,
      "provenance": []
    },
    "kernelspec": {
      "display_name": "Python 3",
      "name": "python3"
    },
    "language_info": {
      "name": "python"
    }
  },
  "nbformat": 4,
  "nbformat_minor": 0
}